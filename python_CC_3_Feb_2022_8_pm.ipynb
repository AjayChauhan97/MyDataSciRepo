{
  "nbformat": 4,
  "nbformat_minor": 0,
  "metadata": {
    "colab": {
      "name": "python CC 3 Feb 2022 8 pm",
      "provenance": [],
      "include_colab_link": true
    },
    "kernelspec": {
      "name": "python3",
      "display_name": "Python 3"
    },
    "language_info": {
      "name": "python"
    }
  },
  "cells": [
    {
      "cell_type": "markdown",
      "metadata": {
        "id": "view-in-github",
        "colab_type": "text"
      },
      "source": [
        "<a href=\"https://colab.research.google.com/github/AjayChauhan97/MyDataSciRepo/blob/main/python_CC_3_Feb_2022_8_pm.ipynb\" target=\"_parent\"><img src=\"https://colab.research.google.com/assets/colab-badge.svg\" alt=\"Open In Colab\"/></a>"
      ]
    },
    {
      "cell_type": "code",
      "execution_count": null,
      "metadata": {
        "colab": {
          "base_uri": "https://localhost:8080/"
        },
        "id": "uvmUSuZYaQ_U",
        "outputId": "92e7cf43-3236-407a-d738-2ec9f31dd136"
      },
      "outputs": [
        {
          "output_type": "stream",
          "name": "stdout",
          "text": [
            "is this ON?\n"
          ]
        }
      ],
      "source": [
        "print('is this ON?')"
      ]
    },
    {
      "cell_type": "code",
      "source": [
        "# list\n",
        "## lists in python are represented by []\n",
        "\n",
        "# empty list\n",
        "emptyList = []\n",
        "\n",
        "## non -empty list\n",
        "player = ['ronaldo', 7, 1.87, True]\n",
        "print(player, type(player))\n",
        "\n",
        "## another list\n",
        "groccery = [3, 'tables', 3, 'chairs', 0.5, 'apples', ['ronaldo', 7, 1.87, True]]\n",
        "print(groccery, type(groccery))\n",
        "\n",
        "# a list can store any data type (even a list)\n",
        "# a list can store duplicates"
      ],
      "metadata": {
        "colab": {
          "base_uri": "https://localhost:8080/"
        },
        "id": "xhIRCodVaZNI",
        "outputId": "c6565fb3-04d3-4b46-dfb2-a080d4226972"
      },
      "execution_count": null,
      "outputs": [
        {
          "output_type": "stream",
          "name": "stdout",
          "text": [
            "['ronaldo', 7, 1.87, True] <class 'list'>\n",
            "[3, 'tables', 3, 'chairs', 0.5, 'apples', ['ronaldo', 7, 1.87, True]] <class 'list'>\n"
          ]
        }
      ]
    },
    {
      "cell_type": "code",
      "source": [
        "# indexing in a list\n",
        "## 0 indexing\n",
        "\n",
        "########      0         1          2      3\n",
        "avengers = ['thor', 'iron-man', 'hulk', 'cap']\n",
        "########     -4         -3        -2      -1\n",
        "\n",
        "print(avengers[0], avengers[-4])\n",
        "print(avengers[2], avengers[-2])\n",
        "print(avengers[3], avengers[-1])"
      ],
      "metadata": {
        "colab": {
          "base_uri": "https://localhost:8080/"
        },
        "id": "6_D4LBfpaz7g",
        "outputId": "f63bc8f5-b6cc-4e92-902d-77cfe5feca1b"
      },
      "execution_count": null,
      "outputs": [
        {
          "output_type": "stream",
          "name": "stdout",
          "text": [
            "thor thor\n",
            "hulk hulk\n",
            "cap cap\n"
          ]
        }
      ]
    },
    {
      "cell_type": "code",
      "source": [
        "# slicing\n",
        "########      0         1          2      3\n",
        "avengers = ['thor', 'iron-man', 'hulk', 'cap']\n",
        "########     -4         -3        -2      -1\n",
        "print(avengers[0], avengers[-0])\n",
        "# start, end, step=1 ## end is not included # [start:end:step] # step by default is 1\n",
        "# start=1, end=3, step=1 >>'iron-man', 'hulk'\n",
        "print(avengers[1:3:1], avengers[1:3])\n",
        "# start=-3, end=-1, step=1 >>'iron-man', 'hulk'\n",
        "print(avengers[-3:-1:1], avengers[-3:-1])\n",
        "# start=2, end=0, step=-1>>'hulk', 'iron-man'\n",
        "print(avengers[2:0:-1])\n",
        "# start=0, end=3, step=2>>'thor', 'hulk'\n",
        "print(avengers[0:3:2])\n",
        "print(avengers[0:3:1])\n",
        "print(avengers[-4:-1:1])\n",
        "print(avengers[-4:3:1])\n",
        "\n",
        "print(avengers[:3:1]) #['thor', 'iron-man', 'hulk'\n",
        "print(avengers[1::1]) # 'iron-man', 'hulk', 'cap']\n",
        "\n",
        "print(avengers[1::-1]) #'iron-man' , thor\n",
        "print(avengers[:-2:-1]) # cap"
      ],
      "metadata": {
        "colab": {
          "base_uri": "https://localhost:8080/"
        },
        "id": "Ck1cyqCYdi2e",
        "outputId": "e29ed8a9-97c0-4b31-c775-047ddbb98740"
      },
      "execution_count": null,
      "outputs": [
        {
          "output_type": "stream",
          "name": "stdout",
          "text": [
            "thor thor\n",
            "['iron-man', 'hulk'] ['iron-man', 'hulk']\n",
            "['iron-man', 'hulk'] ['iron-man', 'hulk']\n",
            "['hulk', 'iron-man']\n",
            "['thor', 'hulk']\n",
            "['thor', 'iron-man', 'hulk']\n",
            "['thor', 'iron-man', 'hulk']\n",
            "['thor', 'iron-man', 'hulk']\n",
            "['thor', 'iron-man', 'hulk']\n",
            "['iron-man', 'hulk', 'cap']\n",
            "['iron-man', 'thor']\n",
            "['cap']\n"
          ]
        }
      ]
    },
    {
      "cell_type": "code",
      "source": [
        "########      0         1          2      3\n",
        "avengers = ['thor', 'iron-man', 'hulk', 'cap']\n",
        "########     -4         -3        -2      -1\n",
        "\n",
        "print(avengers[::1])\n",
        "print(avengers[:])# step by default is 1\n",
        "\n",
        "print(avengers[::-1])"
      ],
      "metadata": {
        "colab": {
          "base_uri": "https://localhost:8080/"
        },
        "id": "WwQO9p8hiekR",
        "outputId": "78085f93-7bff-4ec5-de88-c2ccef3cc2a5"
      },
      "execution_count": null,
      "outputs": [
        {
          "output_type": "stream",
          "name": "stdout",
          "text": [
            "['thor', 'iron-man', 'hulk', 'cap']\n",
            "['thor', 'iron-man', 'hulk', 'cap']\n",
            "['cap', 'hulk', 'iron-man', 'thor']\n"
          ]
        }
      ]
    },
    {
      "cell_type": "code",
      "source": [
        "avengers = ['thor', 'iron-man', 'hulk', 'cap']\n",
        "\n",
        "for myHero in avengers:\n",
        "    print(myHero)"
      ],
      "metadata": {
        "colab": {
          "base_uri": "https://localhost:8080/"
        },
        "id": "ORirU8Xuieht",
        "outputId": "cf9eb2c9-41de-4fa2-e04a-77cbb0dd2a4d"
      },
      "execution_count": null,
      "outputs": [
        {
          "output_type": "stream",
          "name": "stdout",
          "text": [
            "thor\n",
            "iron-man\n",
            "hulk\n",
            "cap\n"
          ]
        }
      ]
    },
    {
      "cell_type": "code",
      "source": [
        "avengers = ['thor', 'iron-man', 'hulk', 'cap']\n",
        "print(avengers)\n",
        "print(avengers[0])\n",
        "\n",
        "avengers[0] = 'god of thunder'\n",
        "print(avengers)\n",
        "\n",
        "avengers[1] = False\n",
        "print(avengers)\n",
        "\n",
        "# lists are editable/ mutable\n",
        "# we can update any element to any other data type as well"
      ],
      "metadata": {
        "colab": {
          "base_uri": "https://localhost:8080/"
        },
        "id": "e1GZ5Dv9iefE",
        "outputId": "27796394-a34f-4108-dc9a-7c1919a256e4"
      },
      "execution_count": null,
      "outputs": [
        {
          "output_type": "stream",
          "name": "stdout",
          "text": [
            "['thor', 'iron-man', 'hulk', 'cap']\n",
            "thor\n",
            "['god of thunder', 'iron-man', 'hulk', 'cap']\n",
            "['god of thunder', False, 'hulk', 'cap']\n"
          ]
        }
      ]
    },
    {
      "cell_type": "code",
      "source": [
        "avengers = ['thor', 'iron-man', 'hulk', 'cap']\n",
        "print(avengers)\n",
        "# append\n",
        "# /əˈpɛnd/\n",
        "# verb\n",
        "# add (something) to the end of a written document.\n",
        "# \"the results of the survey are appended to this chapter\"\n",
        "avengers.append('gamora')\n",
        "print(avengers)\n",
        "\n",
        "# insert\n",
        "avengers.insert(1, 'loki')#Insert element before a sepcific index.\n",
        "print(avengers)"
      ],
      "metadata": {
        "colab": {
          "base_uri": "https://localhost:8080/"
        },
        "id": "7PdbQ8hiieZr",
        "outputId": "c5f0b8d8-1c8b-4cd3-d2e6-16bfafbe4e8a"
      },
      "execution_count": null,
      "outputs": [
        {
          "output_type": "stream",
          "name": "stdout",
          "text": [
            "['thor', 'iron-man', 'hulk', 'cap']\n",
            "['thor', 'iron-man', 'hulk', 'cap', 'gamora']\n",
            "['thor', 'loki', 'iron-man', 'hulk', 'cap', 'gamora']\n"
          ]
        }
      ]
    },
    {
      "cell_type": "code",
      "source": [
        "# extend\n",
        "avengers = ['thor', 'iron-man', 'hulk', 'cap']\n",
        "print(avengers)\n",
        "DC = ['batman', 'superman', 'aquaman']\n",
        "print(DC)\n",
        "\n",
        "avengers.extend(DC)\n",
        "print(avengers)\n",
        "print(DC)"
      ],
      "metadata": {
        "colab": {
          "base_uri": "https://localhost:8080/"
        },
        "id": "bVGDL6lZieXM",
        "outputId": "eed67fae-38b3-4236-d6a0-af0722be142a"
      },
      "execution_count": null,
      "outputs": [
        {
          "output_type": "stream",
          "name": "stdout",
          "text": [
            "['thor', 'iron-man', 'hulk', 'cap']\n",
            "['batman', 'superman', 'aquaman']\n",
            "['thor', 'iron-man', 'hulk', 'cap', 'batman', 'superman', 'aquaman']\n",
            "['batman', 'superman', 'aquaman']\n"
          ]
        }
      ]
    },
    {
      "cell_type": "code",
      "source": [
        "# removing\n",
        "avengers = ['thor', 'iron-man', 'hulk', 'cap']\n",
        "avengers.insert(1, 'loki')\n",
        "avengers.insert(3, 'thanos')\n",
        "avengers.append('thanos')\n",
        "print(avengers)\n",
        "\n",
        "# remove >> removes first occurenece of the lement by value\n",
        "avengers.remove('thanos')\n",
        "print(avengers)\n",
        "\n",
        "# getting rid of an element by index\n",
        "del avengers[1]\n",
        "print(avengers)\n",
        "print('the slice',avengers[::2])\n",
        "del avengers[::2]\n",
        "print(avengers)"
      ],
      "metadata": {
        "colab": {
          "base_uri": "https://localhost:8080/"
        },
        "id": "oxB4kOkJnsSr",
        "outputId": "4e0f343e-0a95-41da-c1a3-3e9141066c40"
      },
      "execution_count": null,
      "outputs": [
        {
          "output_type": "stream",
          "name": "stdout",
          "text": [
            "['thor', 'loki', 'iron-man', 'thanos', 'hulk', 'cap', 'thanos']\n",
            "['thor', 'loki', 'iron-man', 'hulk', 'cap', 'thanos']\n",
            "['thor', 'iron-man', 'hulk', 'cap', 'thanos']\n",
            "the slice ['thor', 'hulk', 'thanos']\n",
            "['iron-man', 'cap']\n"
          ]
        }
      ]
    },
    {
      "cell_type": "code",
      "source": [
        "# sorting\n",
        "avengers = ['thor', 'iron-man', 'hulk', 'cap']\n",
        "print(avengers)\n",
        "avengers.sort()\n",
        "print(avengers)\n",
        "\n",
        "avengers = [10,1,11,2,13,5,17]\n",
        "print(avengers)\n",
        "avengers.sort()\n",
        "print(avengers)\n",
        "avengers.sort(reverse=True)\n",
        "print(avengers)"
      ],
      "metadata": {
        "colab": {
          "base_uri": "https://localhost:8080/"
        },
        "id": "ajZUCmEwoTe6",
        "outputId": "ff9ed1e9-b1c8-43a7-a269-0b0924fd45b0"
      },
      "execution_count": null,
      "outputs": [
        {
          "output_type": "stream",
          "name": "stdout",
          "text": [
            "['thor', 'iron-man', 'hulk', 'cap']\n",
            "['cap', 'hulk', 'iron-man', 'thor']\n",
            "[10, 1, 11, 2, 13, 5, 17]\n",
            "[1, 2, 5, 10, 11, 13, 17]\n",
            "[17, 13, 11, 10, 5, 2, 1]\n"
          ]
        }
      ]
    },
    {
      "cell_type": "code",
      "source": [
        "# quick search\n",
        "avengers = ['thor', 'iron-man', 'hulk', 'cap']\n",
        "print('hulk' in avengers)\n",
        "print('groot' in avengers)"
      ],
      "metadata": {
        "colab": {
          "base_uri": "https://localhost:8080/"
        },
        "id": "qeX2lPbEo9fp",
        "outputId": "b85482e2-11c0-419a-ed38-97ece0972cf0"
      },
      "execution_count": null,
      "outputs": [
        {
          "output_type": "stream",
          "name": "stdout",
          "text": [
            "True\n",
            "False\n"
          ]
        }
      ]
    },
    {
      "cell_type": "code",
      "source": [
        "avengers = ['thor', 'iron-man', 'hulk', 'cap', 'hulk', 'hulk']\n",
        "for myHero in avengers:\n",
        "    if myHero=='hulk':\n",
        "        print('HULK FOUND')\n",
        "        break"
      ],
      "metadata": {
        "colab": {
          "base_uri": "https://localhost:8080/"
        },
        "id": "oX3rfbXtpzgC",
        "outputId": "eebed63c-d0d8-4eea-d91c-2a879fe0dce4"
      },
      "execution_count": null,
      "outputs": [
        {
          "output_type": "stream",
          "name": "stdout",
          "text": [
            "HULK FOUND\n"
          ]
        }
      ]
    },
    {
      "cell_type": "code",
      "source": [
        "coins = [1,2,5,6,5,7,8,5,10]\n",
        "# count how many 5 rs coins I have\n",
        "count=0\n",
        "for coin in coins:\n",
        "    if coin==5:\n",
        "        count=count+1 # count+=1\n",
        "# count+=1 this is same as count = count + 1\n",
        "print(f'I found 5 rs coin {count} times')\n",
        "print(f'I found 5 rs coin {coins.count(5)} times')"
      ],
      "metadata": {
        "colab": {
          "base_uri": "https://localhost:8080/"
        },
        "id": "2Y2WzEPkp-wh",
        "outputId": "c253fad5-7857-49be-b941-706f67e8e00d"
      },
      "execution_count": null,
      "outputs": [
        {
          "output_type": "stream",
          "name": "stdout",
          "text": [
            "I found 5 rs coin 3 times\n",
            "I found 5 rs coin 3 times\n"
          ]
        }
      ]
    },
    {
      "cell_type": "code",
      "source": [
        "# find the exact location of the first occurence\n",
        "coins = [1,2,5,6,5,7,8,5,10]\n",
        "thisIstheVarThatWillStoreThePosition = 0\n",
        "for coin in coins:\n",
        "    if coin==5:\n",
        "        print(f'found 5 at {thisIstheVarThatWillStoreThePosition}')\n",
        "        break\n",
        "    else:\n",
        "        thisIstheVarThatWillStoreThePosition+=1\n",
        "print(f'found 5 at {coins.index(5)}')"
      ],
      "metadata": {
        "colab": {
          "base_uri": "https://localhost:8080/"
        },
        "id": "SW3Yau_Jrx_Q",
        "outputId": "e2b2dd30-c164-4f19-8a2e-0dbf378d398c"
      },
      "execution_count": null,
      "outputs": [
        {
          "output_type": "stream",
          "name": "stdout",
          "text": [
            "found 5 at 2\n",
            "found 5 at 2\n"
          ]
        }
      ]
    },
    {
      "cell_type": "code",
      "source": [
        "for coin in coins:\n",
        "    if coin==5:\n",
        "        print(f'found 5 at {thisIstheVarThatWillStoreThePosition}')\n",
        "    thisIstheVarThatWillStoreThePosition+=1"
      ],
      "metadata": {
        "colab": {
          "base_uri": "https://localhost:8080/"
        },
        "id": "jEVxNx_qtBjy",
        "outputId": "4433429f-9f1d-40bb-91fb-647b5390cce9"
      },
      "execution_count": null,
      "outputs": [
        {
          "output_type": "stream",
          "name": "stdout",
          "text": [
            "found 5 at 4\n",
            "found 5 at 6\n",
            "found 5 at 9\n"
          ]
        }
      ]
    },
    {
      "cell_type": "code",
      "source": [
        "# tuples\n",
        "\n",
        "## empty tuple>>()\n",
        "empty_tuple = ()\n",
        "print(empty_tuple, type(empty_tuple))\n",
        "\n",
        "days = ('sun', 'mon', 'tue', 'wed' ,'thu', 'fri' ,'sat')\n",
        "print(days, type(days))\n",
        "\n",
        "# read\n",
        "print(days[3], days[-4])\n",
        "\n",
        "## searching\n",
        "print('thu' in days)\n",
        "\n",
        "# tuples are immutable/ non editable , neither the values or the order of values can change\n",
        "# # update\n",
        "# days[0] ='fun day'\n",
        "\n",
        "###########\n",
        "# tuple\n",
        "# do something to the tuple\n",
        "# tuple should be unchanged"
      ],
      "metadata": {
        "colab": {
          "base_uri": "https://localhost:8080/"
        },
        "id": "oTcQ0Zk6x1f1",
        "outputId": "261b6c57-6a27-4c5b-8644-b1e0a7d80bce"
      },
      "execution_count": null,
      "outputs": [
        {
          "output_type": "stream",
          "name": "stdout",
          "text": [
            "() <class 'tuple'>\n",
            "('sun', 'mon', 'tue', 'wed', 'thu', 'fri', 'sat') <class 'tuple'>\n",
            "wed wed\n",
            "True\n"
          ]
        }
      ]
    },
    {
      "cell_type": "code",
      "source": [
        "# packing and unpacking\n",
        "flavours = ('sweet', 'salty', 'sour')\n",
        "print(flavours, type(flavours))\n",
        "f1, f2, f3 = flavours\n",
        "print(f1, f2, f3)\n",
        "\n",
        "flavours = ['sweet', 'salty', 'sour']\n",
        "print(flavours, type(flavours))\n",
        "f1, f2, f3 = flavours\n",
        "print(f1, f2, f3)"
      ],
      "metadata": {
        "colab": {
          "base_uri": "https://localhost:8080/"
        },
        "id": "sVXwTYdHx8_O",
        "outputId": "dad2257f-62a4-4d72-e0cc-1ec607316a09"
      },
      "execution_count": null,
      "outputs": [
        {
          "output_type": "stream",
          "name": "stdout",
          "text": [
            "('sweet', 'salty', 'sour') <class 'tuple'>\n",
            "sweet salty sour\n",
            "['sweet', 'salty', 'sour'] <class 'list'>\n",
            "sweet salty sour\n"
          ]
        }
      ]
    },
    {
      "cell_type": "code",
      "source": [
        "#[] list\n",
        "#() tuple"
      ],
      "metadata": {
        "id": "NFXPTE-_0WZ4"
      },
      "execution_count": null,
      "outputs": []
    },
    {
      "cell_type": "code",
      "source": [
        "# sets >> {}\n",
        "colors = {'red', 'black', 'red', 'pink', 'Red', 'black', 'green'}\n",
        "print(colors)\n",
        "# no duplicates\n",
        "# there is no order\n",
        "colors.add('yellow')\n",
        "print(colors)"
      ],
      "metadata": {
        "colab": {
          "base_uri": "https://localhost:8080/"
        },
        "id": "j8tJ8-Xd0AS8",
        "outputId": "9c06d596-1e58-4a99-e381-b06dc3a5ca70"
      },
      "execution_count": null,
      "outputs": [
        {
          "output_type": "stream",
          "name": "stdout",
          "text": [
            "{'Red', 'pink', 'black', 'red', 'green'}\n",
            "{'Red', 'pink', 'black', 'red', 'yellow', 'green'}\n"
          ]
        }
      ]
    },
    {
      "cell_type": "code",
      "source": [
        "colors.add('yellow')\n",
        "colors.add('yellow')\n",
        "colors.add('yellow')\n",
        "colors.add('yellow')\n",
        "colors.add('yellow')\n",
        "colors.add('yellow')\n",
        "colors.add('yellow')\n",
        "colors.add('yellow')\n",
        "colors.add('yellow')\n",
        "print(colors)"
      ],
      "metadata": {
        "colab": {
          "base_uri": "https://localhost:8080/"
        },
        "id": "CQqwXtEy0r3l",
        "outputId": "0e45b647-4f7f-4c75-f9eb-e3c5292dc087"
      },
      "execution_count": null,
      "outputs": [
        {
          "output_type": "stream",
          "name": "stdout",
          "text": [
            "{'Red', 'pink', 'black', 'red', 'yellow', 'green'}\n"
          ]
        }
      ]
    },
    {
      "cell_type": "code",
      "source": [
        "setA = {1,2,3,4,5}\n",
        "setB = {4,5,6,7,8}\n",
        "print(setA, setB)\n",
        "# union\n",
        "print(setA.union(setB))\n",
        "# intersection\n",
        "print(setA.intersection(setB))\n",
        "# difference\n",
        "print(setA.difference(setB))"
      ],
      "metadata": {
        "colab": {
          "base_uri": "https://localhost:8080/"
        },
        "id": "d8NU6HxI1Pp0",
        "outputId": "564fae12-575a-4ec9-b8cb-9a2740cfb4c0"
      },
      "execution_count": null,
      "outputs": [
        {
          "output_type": "stream",
          "name": "stdout",
          "text": [
            "{1, 2, 3, 4, 5} {4, 5, 6, 7, 8}\n",
            "{1, 2, 3, 4, 5, 6, 7, 8}\n",
            "{4, 5}\n",
            "{1, 2, 3}\n"
          ]
        }
      ]
    },
    {
      "cell_type": "code",
      "source": [
        "### len\n",
        "\n",
        "# str\n",
        "name = 'ronaldo'\n",
        "print(len(name))\n",
        "quote='an apple a day keeps the doctor away'\n",
        "print(len(quote))"
      ],
      "metadata": {
        "colab": {
          "base_uri": "https://localhost:8080/"
        },
        "id": "TY2ULdHL2a_a",
        "outputId": "e7e1337e-ba3c-4e0a-e617-5d53116fb135"
      },
      "execution_count": null,
      "outputs": [
        {
          "output_type": "stream",
          "name": "stdout",
          "text": [
            "7\n",
            "36\n"
          ]
        }
      ]
    },
    {
      "cell_type": "code",
      "source": [
        "## non -empty list\n",
        "player = ['ronaldo', 7, 1.87, True]\n",
        "print(player, type(player), len(player))\n",
        "\n",
        "## another list\n",
        "groccery = [3, 'tables', 3, 'chairs', 0.5, 'apples', ['ronaldo', 7, 1.87, True]]\n",
        "print(groccery, type(groccery), len(groccery))"
      ],
      "metadata": {
        "colab": {
          "base_uri": "https://localhost:8080/"
        },
        "id": "ZMUxTYSp2pk8",
        "outputId": "47494704-49d6-4ec4-8599-ac4386a0752b"
      },
      "execution_count": null,
      "outputs": [
        {
          "output_type": "stream",
          "name": "stdout",
          "text": [
            "['ronaldo', 7, 1.87, True] <class 'list'> 4\n",
            "[3, 'tables', 3, 'chairs', 0.5, 'apples', ['ronaldo', 7, 1.87, True]] <class 'list'> 7\n"
          ]
        }
      ]
    },
    {
      "cell_type": "code",
      "source": [
        "days = ('sun', 'mon', 'tue', 'wed' ,'thu', 'fri' ,'sat')\n",
        "print(days, type(days), len(days))"
      ],
      "metadata": {
        "colab": {
          "base_uri": "https://localhost:8080/"
        },
        "id": "sDsQq9Gs3GBs",
        "outputId": "a32d0fa6-c017-43a0-c048-4255be2d0b7d"
      },
      "execution_count": null,
      "outputs": [
        {
          "output_type": "stream",
          "name": "stdout",
          "text": [
            "('sun', 'mon', 'tue', 'wed', 'thu', 'fri', 'sat') <class 'tuple'> 7\n"
          ]
        }
      ]
    },
    {
      "cell_type": "code",
      "source": [
        "colors = {'red', 'black', 'red', 'pink', 'Red', 'black', 'green'}\n",
        "print(colors, len(colors))"
      ],
      "metadata": {
        "colab": {
          "base_uri": "https://localhost:8080/"
        },
        "id": "tH3Bugg-3a6s",
        "outputId": "81a07755-7960-4e87-983c-c701ffc5d4e1"
      },
      "execution_count": null,
      "outputs": [
        {
          "output_type": "stream",
          "name": "stdout",
          "text": [
            "{'Red', 'pink', 'black', 'red', 'green'} 5\n"
          ]
        }
      ]
    },
    {
      "cell_type": "code",
      "source": [
        "# dict\n",
        "# word: meaning\n",
        "# key: value\n",
        "# {key: value, key: value, key: value}\n",
        "oxford = {'apple':'fruit', 'google':'company','trump':'president'}\n",
        "print(oxford, type(oxford))\n",
        "print(oxford['google'])"
      ],
      "metadata": {
        "colab": {
          "base_uri": "https://localhost:8080/"
        },
        "id": "XKkrxqxt3xeg",
        "outputId": "6d97d8c0-7132-4c32-f4db-95c5c6d03aae"
      },
      "execution_count": null,
      "outputs": [
        {
          "output_type": "stream",
          "name": "stdout",
          "text": [
            "{'apple': 'fruit', 'google': 'company', 'trump': 'president'} <class 'dict'>\n",
            "company\n"
          ]
        }
      ]
    }
  ]
}